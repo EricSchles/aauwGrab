{
 "metadata": {
  "name": ""
 },
 "nbformat": 3,
 "nbformat_minor": 0,
 "worksheets": [
  {
   "cells": [
    {
     "cell_type": "code",
     "collapsed": false,
     "input": [
      "from selenium import webdriver\n",
      "from selenium.webdriver.common.keys import Keys\n",
      "\n",
      "driver = webdriver.Firefox()\n",
      "driver.get(\"https://ww2.aauw.org/branch_locator/index.php\")\n",
      "elem = driver.find_element_by_id(\"submit_state\")\n",
      "elem.send_keys(Keys.ENTER)\n",
      "#elem.send_keys()\n",
      "driver.close()"
     ],
     "language": "python",
     "metadata": {},
     "outputs": [],
     "prompt_number": "*"
    }
   ],
   "metadata": {}
  }
 ]
}